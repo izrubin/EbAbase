{
 "cells": [
  {
   "cell_type": "markdown",
   "metadata": {},
   "source": [
    "# EbAbase Tutorial & Demonstration"
   ]
  },
  {
   "cell_type": "markdown",
   "metadata": {},
   "source": [
    "This notebook demonstrates how to search different sources for humanitarian aid project information. Later, this would be combined into Class Objects and an importable package with formatted output tables."
   ]
  },
  {
   "cell_type": "code",
   "execution_count": 1,
   "metadata": {},
   "outputs": [],
   "source": [
    "# conda install requests"
   ]
  },
  {
   "cell_type": "code",
   "execution_count": 2,
   "metadata": {},
   "outputs": [],
   "source": [
    "import requests\n",
    "import base64"
   ]
  },
  {
   "cell_type": "markdown",
   "metadata": {},
   "source": [
    "We will begin with a the USAID DEC and continue to other sources afterward."
   ]
  },
  {
   "cell_type": "markdown",
   "metadata": {},
   "source": [
    "## Querying the USAID Development Experience Clearinghouse (DEC)"
   ]
  },
  {
   "cell_type": "markdown",
   "metadata": {},
   "source": [
    "We will use the **qsearch.ashx** access feature to retrieve data from the USAID DEC. API documentation for how to query this data source in other ways is found [here](https://www.usaid.gov/developer/development-experience-clearinghouse-dec-api).\n",
    "\n",
    "First, set the base URL that we wil add search parameters to later."
   ]
  },
  {
   "cell_type": "code",
   "execution_count": 3,
   "metadata": {},
   "outputs": [],
   "source": [
    "baseurl=\"https://dec.usaid.gov/api/qsearch.ashx?\""
   ]
  },
  {
   "cell_type": "markdown",
   "metadata": {},
   "source": [
    "Next, we need to build a full query with the required variable `q`. The DEC takes this in the form of a Base64 URL encoded string, so we will use `base64` to encode our search queries. The `b` at the beginning of output indicates this is in bytes, but we can decode that back into a string using the `.decode` option."
   ]
  },
  {
   "cell_type": "code",
   "execution_count": 4,
   "metadata": {},
   "outputs": [
    {
     "data": {
      "text/plain": [
       "b'c2VhcmNoIHN0cmluZw=='"
      ]
     },
     "execution_count": 4,
     "metadata": {},
     "output_type": "execute_result"
    }
   ],
   "source": [
    "qvar = base64.urlsafe_b64encode('search string'.encode('utf-8'))\n",
    "qvar"
   ]
  },
  {
   "cell_type": "code",
   "execution_count": 5,
   "metadata": {},
   "outputs": [
    {
     "data": {
      "text/plain": [
       "'c2VhcmNoIHN0cmluZw=='"
      ]
     },
     "execution_count": 5,
     "metadata": {},
     "output_type": "execute_result"
    }
   ],
   "source": [
    "qvar = qvar.decode(\"utf-8\")\n",
    "qvar"
   ]
  },
  {
   "cell_type": "code",
   "execution_count": 6,
   "metadata": {},
   "outputs": [
    {
     "data": {
      "text/plain": [
       "'https://dec.usaid.gov/api/qsearch.ashx?c2VhcmNoIHN0cmluZw=='"
      ]
     },
     "execution_count": 6,
     "metadata": {},
     "output_type": "execute_result"
    }
   ],
   "source": [
    "searchurl = baseurl + qvar\n",
    "searchurl"
   ]
  },
  {
   "cell_type": "markdown",
   "metadata": {},
   "source": [
    "While the `q` argument that we just added above (`search`) is required, there is also an optional variable, `rtype`, to specific the output file type. Without specification, the default result will be in XML format. Alternatively, you can specify CSV or JSON if you prefer by appending `&rtype=CSV` or `&rtype=JSON` to the end of the query. Let's use JSON."
   ]
  },
  {
   "cell_type": "code",
   "execution_count": 7,
   "metadata": {},
   "outputs": [],
   "source": [
    "rtype = '&rtype=JSON'"
   ]
  },
  {
   "cell_type": "code",
   "execution_count": 8,
   "metadata": {},
   "outputs": [
    {
     "data": {
      "text/plain": [
       "'https://dec.usaid.gov/api/qsearch.ashx?c2VhcmNoIHN0cmluZw==&rtype=JSON'"
      ]
     },
     "execution_count": 8,
     "metadata": {},
     "output_type": "execute_result"
    }
   ],
   "source": [
    "searchurl = baseurl + qvar + rtype\n",
    "searchurl"
   ]
  },
  {
   "cell_type": "markdown",
   "metadata": {},
   "source": [
    "Now, we have a complete search URL. We can use the `requests` package to create an instance of a Class object of the results of our search."
   ]
  },
  {
   "cell_type": "code",
   "execution_count": 9,
   "metadata": {},
   "outputs": [],
   "source": [
    "results = requests.get(searchurl)"
   ]
  },
  {
   "cell_type": "markdown",
   "metadata": {},
   "source": [
    "Check the status of the request like this. An output of 200 means that it worked."
   ]
  },
  {
   "cell_type": "code",
   "execution_count": 10,
   "metadata": {},
   "outputs": [
    {
     "data": {
      "text/plain": [
       "200"
      ]
     },
     "execution_count": 10,
     "metadata": {},
     "output_type": "execute_result"
    }
   ],
   "source": [
    "results.status_code"
   ]
  },
  {
   "cell_type": "markdown",
   "metadata": {},
   "source": [
    "This next command will return an error is there is one, or nothing if there is no error."
   ]
  },
  {
   "cell_type": "code",
   "execution_count": 11,
   "metadata": {},
   "outputs": [],
   "source": [
    "results.raise_for_status()"
   ]
  },
  {
   "cell_type": "markdown",
   "metadata": {},
   "source": [
    "#### References\n",
    "+ https://www.usaid.gov/developer/development-experience-clearinghouse-dec-api\n",
    "+ https://dec.usaid.gov/api/help.html\n",
    "+ https://stackoverflow.com/questions/23164058/how-to-encode-text-to-base64-in-python\n",
    "+ https://docs.python.org/2/library/base64.html"
   ]
  },
  {
   "cell_type": "code",
   "execution_count": null,
   "metadata": {},
   "outputs": [],
   "source": []
  }
 ],
 "metadata": {
  "kernelspec": {
   "display_name": "Python 3",
   "language": "python",
   "name": "python3"
  },
  "language_info": {
   "codemirror_mode": {
    "name": "ipython",
    "version": 3
   },
   "file_extension": ".py",
   "mimetype": "text/x-python",
   "name": "python",
   "nbconvert_exporter": "python",
   "pygments_lexer": "ipython3",
   "version": "3.6.5"
  }
 },
 "nbformat": 4,
 "nbformat_minor": 2
}
